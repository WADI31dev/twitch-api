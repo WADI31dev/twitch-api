{
 "cells": [
  {
   "cell_type": "markdown",
   "id": "a8bf8f24",
   "metadata": {},
   "source": [
    "# Yumon index research"
   ]
  },
  {
   "cell_type": "raw",
   "id": "26be00dd",
   "metadata": {
    "jupyter": {
     "source_hidden": true
    },
    "tags": []
   },
   "source": [
    "Twitch\n",
    "\n",
    "- 🟩 # of followers\n",
    "- 🟩 # of subscribers\n",
    "- 🟩 Av. # of viewers on 3 last streams\n",
    "- 🟨 % of growth of new subscribers over the last 24 hours, 3 days, 10 days, 30 days\n",
    "- 🟨 % of growth of new followers over the last 24 hours, 3 days, 10 days, 30 days\n",
    "- 🟥 # of unique viewers on the 3 last streams\n",
    "- 🟥 Live tipping performance\n",
    "- 🟥 Velocity of chat interactions\n",
    "\n",
    "Youtube\n",
    "\n",
    "- # of subscribers\n",
    "- % of growth of new subscribers over the last 24 hours, 3 days, 10 days, 30 days\n",
    "- # of views for the last 24 hours, 3 days, 10 days, 30 days\n",
    "- Upvote / Downvote ratio on the last 3 videos\n",
    "- Views/comments ratio on the last 3 videos\n",
    "- Live: tipping performance\n",
    "- Live: chat interactions velocity\n",
    "- Live: total # number of viewers\n",
    "- Top trend performance\n",
    "\n",
    "Instagram\n",
    "\n",
    "- # of followers\n",
    "- % of growth of new followers over the last 24 hours, 3 days, 10 days, 30 days\n",
    "- # of posts uploaded\n",
    "- % of growth of new posts uploaded over the last 24 hours, 3 days, 10 days, 30 days\n",
    "- Ratio likes/comments on posts\n",
    "- Av. # of views on videos (last 30 days activity)\n",
    "- Engagement rate (instagram API)\n",
    "- Av. likes on last posts over the last 24 hours, 3 days, 10 days, 30 days\n",
    "- Av. # of comments on last posts over the last 24 hours, 3 days, 10 days, 30 days\n",
    "\n",
    "TikTok\n",
    "\n",
    "- # of followers\n",
    "- % of growth of new followers over the last 24 hours, 3 days, 10 days, 30 days\n",
    "- # of videos uploaded\n",
    "- % of growth of new videos uploaded over the last 24 hours, 3 days, 10 days, 30 days\n",
    "- Ratio likes/comments on videos\n",
    "- Av. # of views on videos (last 30 days activity)\n",
    "- Av. likes on last videos over the last 24 hours, 3 days, 10 days, 30 days\n",
    "- Av. # of comments on last videos over the last 24 hours, 3 days, 10 days, 30 days\n",
    "\n",
    "Twitter\n",
    "\n",
    "- # of followers\n",
    "- % of growth of new followers over the last 24 hours, 3 days, 10 days, 30 days\n",
    "- # of tweets posted\n",
    "- Engagement rate (Twitter API)\n",
    "- Av. # of retweets over the last 24 hours, 3 days, 10 days, 30 days\n",
    "- Av. # of likes over the last 24 hours, 3 days, 10 days, 30 days\n",
    "- Av. # of comments over the last 24 hours, 3 days, 10 days, 30 days\n",
    "\n",
    "All data points are weighted and normalized according to the Creator's activity and network preferences.  \n"
   ]
  },
  {
   "cell_type": "markdown",
   "id": "796f151c",
   "metadata": {},
   "source": [
    "# sources"
   ]
  },
  {
   "cell_type": "markdown",
   "id": "72dd712f",
   "metadata": {
    "jupyter": {
     "source_hidden": true
    },
    "tags": []
   },
   "source": [
    "En plus des API officielles de Twitch, Youtube, Facebook pour insta, Twitter et Tiktok tu peux jeter un oeil à :\n",
    "\n",
    "Twitch, Youtube gaming et Trovo\n",
    "\n",
    "Twitch Tracker : détaille les performances globales et par chaîne\n",
    "https://twitchtracker.com\n",
    "\n",
    "Twitch Metrics : détaille les performances globales et par chaîne \n",
    "\n",
    "Sully Gnome :  détaille les performances globales et par chaîne - se laisse apparemment bien scrapper\n",
    "\n",
    "StreamsCharts : détaille les performances globales et par chaîne - il faut un abo, dis moi si tu souhaites y accèder on prendra un accès sans problème\n",
    "\n",
    "Youtube, TikTok et Instagram\n",
    "\n",
    "NoxInfluencer : détaille les performances globales et par chaîne + donne des approximations sur les capacités à monétiser\n",
    "\n",
    "HypeAuditor : détaille les performances globales et par chaîne + donne des approximations sur les capacités à monétiser\n",
    "\n",
    "Instagram et Twitter\n",
    "\n",
    "Speakrj : détaille les performances globales et par chaîne "
   ]
  },
  {
   "cell_type": "raw",
   "id": "8b2a8415",
   "metadata": {},
   "source": [
    "Twitch\n",
    "\n",
    "- current # of followers\n",
    "- # of followers of last month \n",
    "- # of followers 2 months ago\n",
    "- # of followers 3 months ago\n",
    "- % of growth of new followers\n",
    "- # of subscribers\n",
    "- # of subs last month\n",
    "- # of subs 2 months ago\n",
    "- # of subs 3 months ago\n",
    "- % of growth of new subs :\n",
    "- Avg CCr views on last stream\n",
    "- Avg CCr views on second last stream\n",
    "- Avg CCr views on third last stream\n",
    "- Av. # of viewers on 3 last streams\n",
    "\n",
    "https://twitchtracker.com/pokimane"
   ]
  },
  {
   "cell_type": "code",
   "execution_count": 75,
   "id": "7e4d984e",
   "metadata": {},
   "outputs": [],
   "source": [
    "# pylint: disable=missing-docstring,invalid-name\n",
    "import requests\n",
    "from selenium import webdriver\n",
    "from selenium.webdriver.common.keys import Keys\n",
    "from selenium.webdriver.common.by import By\n",
    "from selenium.webdriver.support.ui import WebDriverWait\n",
    "from selenium.webdriver.support import expected_conditions as ec\n",
    "from selenium.webdriver.chrome.options import Options\n",
    "from webdriver_manager.chrome import ChromeDriverManager\n",
    "from bs4 import BeautifulSoup\n",
    "import chromedriver_binary"
   ]
  },
  {
   "cell_type": "code",
   "execution_count": 76,
   "id": "06b44471",
   "metadata": {},
   "outputs": [],
   "source": [
    "# using only twitchtracker.com for this assignement\n",
    "\n",
    "creator = \"pokimane\"\n",
    "twitch_general = f'https://twitchtracker.com/{creator}'\n",
    "twitch_streams = f'https://twitchtracker.com/{creator}/streams'\n",
    "twitch_subs = f'https://twitchtracker.com/{creator}/subscribers'\n",
    "twitch_stats = f'https://twitchtracker.com/{creator}/statistics'"
   ]
  },
  {
   "cell_type": "code",
   "execution_count": 77,
   "id": "c06f8446",
   "metadata": {
    "tags": []
   },
   "outputs": [
    {
     "name": "stderr",
     "output_type": "stream",
     "text": [
      "\n",
      "\n",
      "====== WebDriver manager ======\n",
      "Current google-chrome version is 98.0.4758\n",
      "Get LATEST chromedriver version for 98.0.4758 google-chrome\n",
      "Driver [/Users/w410/.wdm/drivers/chromedriver/mac64/98.0.4758.102/chromedriver] found in cache\n",
      "/var/folders/j6/0c9b5yrn6q126kgj6jm_sc840000gn/T/ipykernel_46027/2813638357.py:3: DeprecationWarning: executable_path has been deprecated, please pass in a Service object\n",
      "  driver = webdriver.Chrome(ChromeDriverManager().install(), options=options)\n"
     ]
    },
    {
     "data": {
      "text/plain": [
       "<selenium.webdriver.remote.webelement.WebElement (session=\"86344f1e0bad67cf7173d0e6466ee9ca\", element=\"305cc431-bb72-4a9d-99fa-e54a92f8778d\")>"
      ]
     },
     "execution_count": 77,
     "metadata": {},
     "output_type": "execute_result"
    }
   ],
   "source": [
    "options = Options()\n",
    "options.add_argument(\"--headless\")\n",
    "driver = webdriver.Chrome(ChromeDriverManager().install(), options=options)\n",
    "driver.get(twitch_general)\n",
    "wait = WebDriverWait(driver, 15)\n",
    "wait.until(ec.visibility_of_element_located((By.XPATH, \"//*[@id=\\\"content-wrapper\\\"]\")))"
   ]
  },
  {
   "cell_type": "code",
   "execution_count": 78,
   "id": "ca2ab68b",
   "metadata": {},
   "outputs": [],
   "source": [
    "# number of followers\n",
    "nbr_followers = int(driver.find_element(By.CSS_SELECTOR, \"li.list-group-item:nth-child(4) > div:nth-child(1) > div:nth-child(2) > span:nth-child(2)\").text.replace(\",\", \"\"))"
   ]
  },
  {
   "cell_type": "code",
   "execution_count": 79,
   "id": "dfd8272b",
   "metadata": {
    "tags": []
   },
   "outputs": [],
   "source": [
    "# number of subscribers\n",
    "nbr_subs = int(driver.find_element(By.CSS_SELECTOR, \"div.g-x-wrapper:nth-child(7) > div:nth-child(1) > div:nth-child(2) > div:nth-child(1) > div:nth-child(1)\").text.replace(\",\", \"\"))"
   ]
  },
  {
   "cell_type": "code",
   "execution_count": 80,
   "id": "0ae035c9-6e13-457b-9aba-42968eecb748",
   "metadata": {},
   "outputs": [
    {
     "data": {
      "text/plain": [
       "<selenium.webdriver.remote.webelement.WebElement (session=\"86344f1e0bad67cf7173d0e6466ee9ca\", element=\"f8c698e0-874f-49ad-9e79-2b5a73c5f4a1\")>"
      ]
     },
     "execution_count": 80,
     "metadata": {},
     "output_type": "execute_result"
    }
   ],
   "source": [
    "driver.get(twitch_stats)\n",
    "wait.until(ec.visibility_of_element_located((By.XPATH, \"/html/body/div[3]/div[4]\")))"
   ]
  },
  {
   "cell_type": "code",
   "execution_count": 82,
   "id": "adb3c0c9-d05b-44e6-ad70-1ad52ffbb0ff",
   "metadata": {
    "tags": []
   },
   "outputs": [
    {
     "name": "stdout",
     "output_type": "stream",
     "text": [
      "8950000 8920000 8480000\n"
     ]
    }
   ],
   "source": [
    "last_month_foll = int(driver.find_element(By.CSS_SELECTOR, \"#DataTables_Table_1 > tbody:nth-child(2) > tr:nth-child(1) > td:nth-child(3)\").text.replace(\".\",\"\").replace(\"M\", \"0000\"))\n",
    "snd_last_month_foll = int(driver.find_element(By.CSS_SELECTOR, \"#DataTables_Table_1 > tbody:nth-child(2) > tr:nth-child(2) > td:nth-child(3)\").text.replace(\".\",\"\").replace(\"M\", \"0000\"))\n",
    "thrird_last_month_foll = int(driver.find_element(By.CSS_SELECTOR, \"#DataTables_Table_1 > tbody:nth-child(2) > tr:nth-child(3) > td:nth-child(3)\").text.replace(\".\",\"\").replace(\"M\", \"0000\"))\n",
    "print(last_month_foll, snd_last_month_foll, thrird_last_month_foll)"
   ]
  },
  {
   "cell_type": "code",
   "execution_count": 59,
   "id": "58a8cf44-8e13-4f9f-8c08-911f7b4cbe1c",
   "metadata": {
    "tags": []
   },
   "outputs": [
    {
     "data": {
      "text/plain": [
       "1.81"
      ]
     },
     "execution_count": 59,
     "metadata": {},
     "output_type": "execute_result"
    }
   ],
   "source": [
    "# % growth rate last 3 months followers\n",
    "foll_growth_rate = round(((last_month_foll/ thrird_last_month_foll)**(1/3) - 1) * 100, 2)\n",
    "foll_growth_rate"
   ]
  },
  {
   "cell_type": "code",
   "execution_count": 60,
   "id": "1f395d30-7a4d-4f05-8b07-f45e4f05fef7",
   "metadata": {},
   "outputs": [
    {
     "data": {
      "text/plain": [
       "<selenium.webdriver.remote.webelement.WebElement (session=\"4fb46fc56a5517f6ed034413c1ee0d9f\", element=\"ce6a3794-6b33-4ddb-968d-a4c4c67a5805\")>"
      ]
     },
     "execution_count": 60,
     "metadata": {},
     "output_type": "execute_result"
    }
   ],
   "source": [
    "driver.get(twitch_general)\n",
    "wait = WebDriverWait(driver, 15)\n",
    "wait.until(ec.visibility_of_element_located((By.XPATH, \"//*[@id=\\\"content-wrapper\\\"]\")))"
   ]
  },
  {
   "cell_type": "code",
   "execution_count": 61,
   "id": "12e23eca",
   "metadata": {},
   "outputs": [],
   "source": [
    "# number of subs last 3 months subs\n",
    "driver.get(twitch_subs)\n",
    "wait.until(ec.visibility_of_element_located((By.XPATH, \"//*[@id=\\\"content-wrapper\\\"]/div[6]\")))\n",
    "\n",
    "last_month_sub = int(driver.find_element(By.CSS_SELECTOR, \"#subscribers > tbody > tr:nth-child(2) > td:nth-child(2) > b\").text.replace(\",\",\"\"))\n",
    "snd_last_month_sub = int(driver.find_element(By.CSS_SELECTOR, \"#subscribers > tbody > tr:nth-child(3) > td:nth-child(2) > b\").text.replace(\",\",\"\"))\n",
    "third_last_month_sub = int(driver.find_element(By.CSS_SELECTOR, \"#subscribers > tbody > tr:nth-child(4) > td:nth-child(2) > b\").text.replace(\",\",\"\"))"
   ]
  },
  {
   "cell_type": "code",
   "execution_count": 69,
   "id": "d179f1e6-19de-4a07-a526-0f1fc07480f6",
   "metadata": {},
   "outputs": [],
   "source": [
    "# % growth rate last 4 months subs\n",
    "subs_growth_rate = round(((nbr_subs/ snd_last_month_sub)**(1/3) - 1) * 100, 2)"
   ]
  },
  {
   "cell_type": "code",
   "execution_count": 70,
   "id": "9017a5d2-dbd2-4e99-987a-7a9798fe13e8",
   "metadata": {},
   "outputs": [
    {
     "data": {
      "text/plain": [
       "3.04"
      ]
     },
     "execution_count": 70,
     "metadata": {},
     "output_type": "execute_result"
    }
   ],
   "source": [
    "subs_growth_rate"
   ]
  },
  {
   "cell_type": "code",
   "execution_count": 63,
   "id": "2d3fa236",
   "metadata": {},
   "outputs": [],
   "source": [
    "# Av. # of viewers on 3 last streams\n",
    "driver.get(twitch_streams)\n",
    "wait.until(ec.visibility_of_element_located((By.XPATH, \"/html/body/div[3]/div[4]\")))\n",
    "\n",
    "last_stream_avg_views = int(driver.find_element(By.CSS_SELECTOR, \"tr.odd:nth-child(1) > td:nth-child(3) > span:nth-child(1)\").text.replace(\",\", \"\"))\n",
    "snd_last_stream_avg_views = int(driver.find_element(By.CSS_SELECTOR, \"tr.even:nth-child(2) > td:nth-child(3) > span:nth-child(1)\").text.replace(\",\", \"\"))\n",
    "third_last_stream_avg_views = int(driver.find_element(By.CSS_SELECTOR, \"tr.odd:nth-child(3) > td:nth-child(3) > span:nth-child(1)\").text.replace(\",\", \"\"))\n",
    "\n",
    "three_last_streams_avg_views = int((last_stream_avg_views + snd_last_stream_avg_views + third_last_stream_avg_views) / 3)"
   ]
  },
  {
   "cell_type": "code",
   "execution_count": 64,
   "id": "c2b93ecc",
   "metadata": {},
   "outputs": [],
   "source": [
    "driver.quit()"
   ]
  },
  {
   "cell_type": "code",
   "execution_count": 73,
   "id": "a5095b50-3f35-4962-8ee9-2bf7b10b2ef8",
   "metadata": {},
   "outputs": [],
   "source": [
    "twitch = {\n",
    "    \"current # of followers\" : nbr_followers,\n",
    "    \"# of followers of last month \" : last_month_foll,\n",
    "    \"# of followers 2 months ago\" :  snd_last_month_foll,\n",
    "    \"# of followers 3 months ago\" : thrird_last_month_foll,\n",
    "    \"Avg growth rate of new followers (%)\" : foll_growth_rate,\n",
    "    \"current # of subscribers\" : nbr_subs,\n",
    "    \"# of subscribers of last month \" : last_month_sub,\n",
    "    \"# of subscribers 2 months ago\" :  snd_last_month_sub,\n",
    "    \"# of subscribers 3 months ago\" : third_last_month_sub,\n",
    "    \"Avg growth rate of new subscribers on 3 last months (%)\" : subs_growth_rate,\n",
    "    \"Avg CCr views on last stream\" : last_stream_avg_views,\n",
    "    \"Avg CCr views on second last stream\" : snd_last_stream_avg_views,\n",
    "    \"Avg CCr views on third last stream\" : third_last_stream_avg_views,\n",
    "    \"Av. # of viewers on 3 last streams\" : three_last_streams_avg_views\n",
    "}"
   ]
  },
  {
   "cell_type": "code",
   "execution_count": 83,
   "id": "e157f3f2-bc40-4775-b7d7-448479a1b497",
   "metadata": {},
   "outputs": [
    {
     "data": {
      "text/plain": [
       "{'current # of followers': 8951122,\n",
       " '# of followers of last month ': 8950000,\n",
       " '# of followers 2 months ago': 8920000,\n",
       " '# of followers 3 months ago': 8480000,\n",
       " 'Avg growth rate of new followers (%)': 1.81,\n",
       " 'current # of subscribers': 7390,\n",
       " '# of subscribers of last month ': 11461,\n",
       " '# of subscribers 2 months ago': 6755,\n",
       " '# of subscribers 3 months ago': 7168,\n",
       " 'Avg growth rate of new subscribers on 3 last months (%)': 3.04,\n",
       " 'Avg CCr views on last stream': 15384,\n",
       " 'Avg CCr views on second last stream': 21745,\n",
       " 'Avg CCr views on third last stream': 22513,\n",
       " 'Av. # of viewers on 3 last streams': 19880}"
      ]
     },
     "execution_count": 83,
     "metadata": {},
     "output_type": "execute_result"
    }
   ],
   "source": [
    "twitch"
   ]
  },
  {
   "cell_type": "code",
   "execution_count": null,
   "id": "0663fd6d-a7ca-4fdd-98fd-b7de2eb3b989",
   "metadata": {},
   "outputs": [],
   "source": []
  }
 ],
 "metadata": {
  "kernelspec": {
   "display_name": "Python 3 (ipykernel)",
   "language": "python",
   "name": "python3"
  },
  "language_info": {
   "codemirror_mode": {
    "name": "ipython",
    "version": 3
   },
   "file_extension": ".py",
   "mimetype": "text/x-python",
   "name": "python",
   "nbconvert_exporter": "python",
   "pygments_lexer": "ipython3",
   "version": "3.8.12"
  },
  "toc": {
   "base_numbering": 1,
   "nav_menu": {},
   "number_sections": true,
   "sideBar": true,
   "skip_h1_title": false,
   "title_cell": "Table of Contents",
   "title_sidebar": "Contents",
   "toc_cell": false,
   "toc_position": {},
   "toc_section_display": true,
   "toc_window_display": false
  }
 },
 "nbformat": 4,
 "nbformat_minor": 5
}
